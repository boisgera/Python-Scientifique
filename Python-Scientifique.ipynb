{
 "cells": [
  {
   "cell_type": "markdown",
   "metadata": {},
   "source": [
    "Mon premier notebook\n",
    "==================="
   ]
  },
  {
   "cell_type": "markdown",
   "metadata": {},
   "source": [
    "Modules importés\n",
    "-------------------------"
   ]
  },
  {
   "cell_type": "code",
   "execution_count": 33,
   "metadata": {},
   "outputs": [],
   "source": [
    "import math"
   ]
  },
  {
   "cell_type": "code",
   "execution_count": 34,
   "metadata": {},
   "outputs": [
    {
     "data": {
      "text/plain": [
       "3.141592653589793"
      ]
     },
     "execution_count": 34,
     "metadata": {},
     "output_type": "execute_result"
    }
   ],
   "source": [
    "math.pi"
   ]
  },
  {
   "cell_type": "markdown",
   "metadata": {},
   "source": [
    "Le Zen de Python\n",
    "------------------------"
   ]
  },
  {
   "cell_type": "code",
   "execution_count": 35,
   "metadata": {},
   "outputs": [],
   "source": [
    "import this"
   ]
  },
  {
   "cell_type": "markdown",
   "metadata": {},
   "source": [
    "Types de données et Variables\n",
    "--------------------------------------------"
   ]
  },
  {
   "cell_type": "markdown",
   "metadata": {},
   "source": [
    "Il n'est pas nécessaire en Python de déclarer des variables avant des les utiliser !"
   ]
  },
  {
   "cell_type": "code",
   "execution_count": 36,
   "metadata": {},
   "outputs": [],
   "source": [
    "a = 2"
   ]
  },
  {
   "cell_type": "code",
   "execution_count": 37,
   "metadata": {},
   "outputs": [],
   "source": [
    "b = \"Hello\""
   ]
  },
  {
   "cell_type": "code",
   "execution_count": 38,
   "metadata": {},
   "outputs": [
    {
     "data": {
      "text/plain": [
       "3"
      ]
     },
     "execution_count": 38,
     "metadata": {},
     "output_type": "execute_result"
    }
   ],
   "source": [
    "1 + 2"
   ]
  },
  {
   "cell_type": "code",
   "execution_count": 70,
   "metadata": {},
   "outputs": [
    {
     "data": {
      "text/plain": [
       "19950631168807583848837421626835850838234968318861924548520089498529438830221946631919961684036194597899331129423209124271556491349413781117593785932096323957855730046793794526765246551266059895520550086918193311542508608460618104685509074866089624888090489894838009253941633257850621568309473902556912388065225096643874441046759871626985453222868538161694315775629640762836880760732228535091641476183956381458969463899410840960536267821064621427333394036525565649530603142680234969400335934316651459297773279665775606172582031407994198179607378245683762280037302885487251900834464581454650557929601414833921615734588139257095379769119277800826957735674444123062018757836325502728323789270710373802866393031428133241401624195671690574061419654342324638801248856147305207431992259611796250130992860241708340807605932320161268492288496255841312844061536738951487114256315111089745514203313820202931640957596464756010405845841566072044962867016515061920631004186422275908670900574606417856951911456055068251250406007519842261898059237118054444788072906395242548339221982707404473162376760846613033778706039803413197133493654622700563169937455508241780972810983291314403571877524768509857276937926433221599399876886660808368837838027643282775172273657572744784112294389733810861607423253291974813120197604178281965697475898164531258434135959862784130128185406283476649088690521047580882615823961985770122407044330583075869039319604603404973156583208672105913300903752823415539745394397715257455290510212310947321610753474825740775273986348298498340756937955646638621874569499279016572103701364433135817214311791398222983845847334440270964182851005072927748364550578634501100852987812389473928699540834346158807043959118985815145779177143619698728131459483783202081474982171858011389071228250905826817436220577475921417653715687725614904582904992461028630081535583308130101987675856234343538955409175623400844887526162643568648833519463720377293240094456246923254350400678027273837755376406726898636241037491410966718557050759098100246789880178271925953381282421954028302759408448955014676668389697996886241636313376393903373455801407636741877711055384225739499110186468219696581651485130494222369947714763069155468217682876200362777257723781365331611196811280792669481887201298643660768551639860534602297871557517947385246369446923087894265948217008051120322365496288169035739121368338393591756418733850510970271613915439590991598154654417336311656936031122249937969999226781732358023111862644575299135758175008199839236284615249881088960232244362173771618086357015468484058622329792853875623486556440536962622018963571028812361567512543338303270029097668650568557157505516727518899194129711337690149916181315171544007728650573189557450920330185304847113818315407324053319038462084036421763703911550639789000742853672196280903477974533320468368795868580237952218629120080742819551317948157624448298518461509704888027274721574688131594750409732115080498190455803416826949787141316063210686391511681774304792596709376"
      ]
     },
     "execution_count": 70,
     "metadata": {},
     "output_type": "execute_result"
    }
   ],
   "source": [
    "2**10000"
   ]
  },
  {
   "cell_type": "code",
   "execution_count": 39,
   "metadata": {},
   "outputs": [
    {
     "data": {
      "text/plain": [
       "'Hello world !'"
      ]
     },
     "execution_count": 39,
     "metadata": {},
     "output_type": "execute_result"
    }
   ],
   "source": [
    "\"Hello\" + \" world !\""
   ]
  },
  {
   "cell_type": "code",
   "execution_count": 40,
   "metadata": {},
   "outputs": [
    {
     "ename": "TypeError",
     "evalue": "unsupported operand type(s) for +: 'int' and 'str'",
     "output_type": "error",
     "traceback": [
      "\u001b[0;31m---------------------------------------------------------------------------\u001b[0m",
      "\u001b[0;31mTypeError\u001b[0m                                 Traceback (most recent call last)",
      "\u001b[0;32m<ipython-input-40-bd58363a63fc>\u001b[0m in \u001b[0;36m<module>\u001b[0;34m\u001b[0m\n\u001b[0;32m----> 1\u001b[0;31m \u001b[0ma\u001b[0m \u001b[0;34m+\u001b[0m \u001b[0mb\u001b[0m\u001b[0;34m\u001b[0m\u001b[0;34m\u001b[0m\u001b[0m\n\u001b[0m",
      "\u001b[0;31mTypeError\u001b[0m: unsupported operand type(s) for +: 'int' and 'str'"
     ]
    }
   ],
   "source": [
    "a + b"
   ]
  },
  {
   "cell_type": "code",
   "execution_count": 56,
   "metadata": {},
   "outputs": [
    {
     "ename": "TypeError",
     "evalue": "must be str, not int",
     "output_type": "error",
     "traceback": [
      "\u001b[0;31m---------------------------------------------------------------------------\u001b[0m",
      "\u001b[0;31mTypeError\u001b[0m                                 Traceback (most recent call last)",
      "\u001b[0;32m<ipython-input-56-6873d2a43f25>\u001b[0m in \u001b[0;36m<module>\u001b[0;34m\u001b[0m\n\u001b[0;32m----> 1\u001b[0;31m \u001b[0mstr\u001b[0m\u001b[0;34m(\u001b[0m\u001b[0ma\u001b[0m\u001b[0;34m)\u001b[0m \u001b[0;34m+\u001b[0m \u001b[0mb\u001b[0m\u001b[0;34m\u001b[0m\u001b[0;34m\u001b[0m\u001b[0m\n\u001b[0m",
      "\u001b[0;31mTypeError\u001b[0m: must be str, not int"
     ]
    }
   ],
   "source": [
    "str(a) + b"
   ]
  },
  {
   "cell_type": "code",
   "execution_count": 42,
   "metadata": {},
   "outputs": [
    {
     "data": {
      "text/plain": [
       "'HelloHello'"
      ]
     },
     "execution_count": 42,
     "metadata": {},
     "output_type": "execute_result"
    }
   ],
   "source": [
    "a * b"
   ]
  },
  {
   "cell_type": "code",
   "execution_count": 43,
   "metadata": {},
   "outputs": [
    {
     "data": {
      "text/plain": [
       "int"
      ]
     },
     "execution_count": 43,
     "metadata": {},
     "output_type": "execute_result"
    }
   ],
   "source": [
    "type(a)"
   ]
  },
  {
   "cell_type": "code",
   "execution_count": 44,
   "metadata": {},
   "outputs": [
    {
     "data": {
      "text/plain": [
       "str"
      ]
     },
     "execution_count": 44,
     "metadata": {},
     "output_type": "execute_result"
    }
   ],
   "source": [
    "type(b)"
   ]
  },
  {
   "cell_type": "code",
   "execution_count": 45,
   "metadata": {},
   "outputs": [
    {
     "data": {
      "text/plain": [
       "True"
      ]
     },
     "execution_count": 45,
     "metadata": {},
     "output_type": "execute_result"
    }
   ],
   "source": [
    "True"
   ]
  },
  {
   "cell_type": "code",
   "execution_count": 46,
   "metadata": {},
   "outputs": [
    {
     "data": {
      "text/plain": [
       "bool"
      ]
     },
     "execution_count": 46,
     "metadata": {},
     "output_type": "execute_result"
    }
   ],
   "source": [
    "type(True)"
   ]
  },
  {
   "cell_type": "code",
   "execution_count": 47,
   "metadata": {},
   "outputs": [
    {
     "data": {
      "text/plain": [
       "3.14"
      ]
     },
     "execution_count": 47,
     "metadata": {},
     "output_type": "execute_result"
    }
   ],
   "source": [
    "3.14"
   ]
  },
  {
   "cell_type": "code",
   "execution_count": 48,
   "metadata": {},
   "outputs": [
    {
     "data": {
      "text/plain": [
       "float"
      ]
     },
     "execution_count": 48,
     "metadata": {},
     "output_type": "execute_result"
    }
   ],
   "source": [
    "type(3.14)"
   ]
  },
  {
   "cell_type": "code",
   "execution_count": 57,
   "metadata": {},
   "outputs": [
    {
     "data": {
      "text/plain": [
       "3.141592653589793"
      ]
     },
     "execution_count": 57,
     "metadata": {},
     "output_type": "execute_result"
    }
   ],
   "source": [
    "math.pi"
   ]
  },
  {
   "cell_type": "code",
   "execution_count": 64,
   "metadata": {},
   "outputs": [],
   "source": [
    "from datetime import date"
   ]
  },
  {
   "cell_type": "code",
   "execution_count": 65,
   "metadata": {},
   "outputs": [
    {
     "data": {
      "text/plain": [
       "datetime.date(2019, 4, 5)"
      ]
     },
     "execution_count": 65,
     "metadata": {},
     "output_type": "execute_result"
    }
   ],
   "source": [
    "date(2019, 4, 5)"
   ]
  },
  {
   "cell_type": "markdown",
   "metadata": {},
   "source": [
    "Conteneurs\n",
    "----------"
   ]
  },
  {
   "cell_type": "code",
   "execution_count": 71,
   "metadata": {},
   "outputs": [
    {
     "data": {
      "text/plain": [
       "(1, 2, 3)"
      ]
     },
     "execution_count": 71,
     "metadata": {},
     "output_type": "execute_result"
    }
   ],
   "source": [
    "(1,2,3)"
   ]
  },
  {
   "cell_type": "code",
   "execution_count": 72,
   "metadata": {},
   "outputs": [
    {
     "data": {
      "text/plain": [
       "(1, 2)"
      ]
     },
     "execution_count": 72,
     "metadata": {},
     "output_type": "execute_result"
    }
   ],
   "source": [
    "1,2"
   ]
  },
  {
   "cell_type": "code",
   "execution_count": 73,
   "metadata": {},
   "outputs": [],
   "source": [
    "a = 1; b = 2"
   ]
  },
  {
   "cell_type": "code",
   "execution_count": 74,
   "metadata": {},
   "outputs": [],
   "source": [
    "b, a = a, b "
   ]
  },
  {
   "cell_type": "code",
   "execution_count": 75,
   "metadata": {},
   "outputs": [
    {
     "data": {
      "text/plain": [
       "2"
      ]
     },
     "execution_count": 75,
     "metadata": {},
     "output_type": "execute_result"
    }
   ],
   "source": [
    "a"
   ]
  },
  {
   "cell_type": "code",
   "execution_count": 76,
   "metadata": {},
   "outputs": [
    {
     "data": {
      "text/plain": [
       "1"
      ]
     },
     "execution_count": 76,
     "metadata": {},
     "output_type": "execute_result"
    }
   ],
   "source": [
    "b"
   ]
  },
  {
   "cell_type": "code",
   "execution_count": 81,
   "metadata": {},
   "outputs": [],
   "source": [
    "l = [1,2,3,6, 4, 5]"
   ]
  },
  {
   "cell_type": "code",
   "execution_count": 82,
   "metadata": {},
   "outputs": [],
   "source": [
    "l.sort()"
   ]
  },
  {
   "cell_type": "code",
   "execution_count": 83,
   "metadata": {},
   "outputs": [
    {
     "data": {
      "text/plain": [
       "[1, 2, 3, 4, 5, 6]"
      ]
     },
     "execution_count": 83,
     "metadata": {},
     "output_type": "execute_result"
    }
   ],
   "source": [
    "l"
   ]
  },
  {
   "cell_type": "code",
   "execution_count": 84,
   "metadata": {},
   "outputs": [
    {
     "data": {
      "text/plain": [
       "1"
      ]
     },
     "execution_count": 84,
     "metadata": {},
     "output_type": "execute_result"
    }
   ],
   "source": [
    "l[0]"
   ]
  },
  {
   "cell_type": "code",
   "execution_count": 85,
   "metadata": {},
   "outputs": [],
   "source": [
    "l[0] = 99"
   ]
  },
  {
   "cell_type": "code",
   "execution_count": 86,
   "metadata": {},
   "outputs": [
    {
     "data": {
      "text/plain": [
       "[99, 2, 3, 4, 5, 6]"
      ]
     },
     "execution_count": 86,
     "metadata": {},
     "output_type": "execute_result"
    }
   ],
   "source": [
    "l"
   ]
  },
  {
   "cell_type": "code",
   "execution_count": 87,
   "metadata": {},
   "outputs": [
    {
     "data": {
      "text/plain": [
       "6"
      ]
     },
     "execution_count": 87,
     "metadata": {},
     "output_type": "execute_result"
    }
   ],
   "source": [
    "len(l)"
   ]
  },
  {
   "cell_type": "code",
   "execution_count": 88,
   "metadata": {},
   "outputs": [],
   "source": [
    "l.append(42)"
   ]
  },
  {
   "cell_type": "code",
   "execution_count": 89,
   "metadata": {},
   "outputs": [
    {
     "data": {
      "text/plain": [
       "[99, 2, 3, 4, 5, 6, 42]"
      ]
     },
     "execution_count": 89,
     "metadata": {},
     "output_type": "execute_result"
    }
   ],
   "source": [
    "l"
   ]
  },
  {
   "cell_type": "code",
   "execution_count": 90,
   "metadata": {},
   "outputs": [],
   "source": [
    "l.reverse()"
   ]
  },
  {
   "cell_type": "code",
   "execution_count": 91,
   "metadata": {},
   "outputs": [
    {
     "data": {
      "text/plain": [
       "[42, 6, 5, 4, 3, 2, 99]"
      ]
     },
     "execution_count": 91,
     "metadata": {},
     "output_type": "execute_result"
    }
   ],
   "source": [
    "l"
   ]
  },
  {
   "cell_type": "code",
   "execution_count": 96,
   "metadata": {},
   "outputs": [],
   "source": [
    "l[1] = \"hello\""
   ]
  },
  {
   "cell_type": "code",
   "execution_count": 97,
   "metadata": {},
   "outputs": [
    {
     "name": "stdout",
     "output_type": "stream",
     "text": [
      "*** 42\n",
      "*** hello\n",
      "*** 5\n",
      "*** 4\n",
      "*** 3\n",
      "*** 2\n",
      "*** 99\n"
     ]
    }
   ],
   "source": [
    "for i in l:\n",
    "    print(\"***\", i)"
   ]
  },
  {
   "cell_type": "code",
   "execution_count": 98,
   "metadata": {},
   "outputs": [],
   "source": [
    "d = {\"prénom\": \"Sébastien\", \"nom\": \"Boisgérault\", \"age\": 44}"
   ]
  },
  {
   "cell_type": "code",
   "execution_count": 99,
   "metadata": {},
   "outputs": [
    {
     "data": {
      "text/plain": [
       "{'prénom': 'Sébastien', 'nom': 'Boisgérault', 'age': 44}"
      ]
     },
     "execution_count": 99,
     "metadata": {},
     "output_type": "execute_result"
    }
   ],
   "source": [
    "d"
   ]
  },
  {
   "cell_type": "code",
   "execution_count": 100,
   "metadata": {},
   "outputs": [
    {
     "data": {
      "text/plain": [
       "'Boisgérault'"
      ]
     },
     "execution_count": 100,
     "metadata": {},
     "output_type": "execute_result"
    }
   ],
   "source": [
    "d[\"nom\"]"
   ]
  },
  {
   "cell_type": "code",
   "execution_count": 101,
   "metadata": {},
   "outputs": [],
   "source": [
    "d[\"nom\"] = \"Boisg.\""
   ]
  },
  {
   "cell_type": "code",
   "execution_count": 106,
   "metadata": {},
   "outputs": [
    {
     "name": "stdout",
     "output_type": "stream",
     "text": [
      "prénom Sébastien\n",
      "nom Boisg.\n",
      "age 44\n"
     ]
    }
   ],
   "source": [
    "for k in d:\n",
    "    print(k, d[k])"
   ]
  },
  {
   "cell_type": "markdown",
   "metadata": {},
   "source": [
    "Fonctions\n",
    "---------"
   ]
  },
  {
   "cell_type": "code",
   "execution_count": 112,
   "metadata": {},
   "outputs": [],
   "source": [
    "def factorial(n=42):\n",
    "    if n == 0:\n",
    "        return 1\n",
    "    else:\n",
    "        return n * factorial(n-1)\n",
    "c = 2"
   ]
  },
  {
   "cell_type": "code",
   "execution_count": 113,
   "metadata": {},
   "outputs": [
    {
     "data": {
      "text/plain": [
       "1405006117752879898543142606244511569936384000000000"
      ]
     },
     "execution_count": 113,
     "metadata": {},
     "output_type": "execute_result"
    }
   ],
   "source": [
    "factorial()"
   ]
  },
  {
   "cell_type": "code",
   "execution_count": 111,
   "metadata": {},
   "outputs": [
    {
     "data": {
      "text/plain": [
       "720"
      ]
     },
     "execution_count": 111,
     "metadata": {},
     "output_type": "execute_result"
    }
   ],
   "source": [
    "factorial(6)"
   ]
  },
  {
   "cell_type": "markdown",
   "metadata": {},
   "source": [
    "Gestion des Erreurs\n",
    "-----------------------------"
   ]
  },
  {
   "cell_type": "code",
   "execution_count": 49,
   "metadata": {},
   "outputs": [
    {
     "ename": "NameError",
     "evalue": "name 'nfckufhslsjsl' is not defined",
     "output_type": "error",
     "traceback": [
      "\u001b[0;31m---------------------------------------------------------------------------\u001b[0m",
      "\u001b[0;31mNameError\u001b[0m                                 Traceback (most recent call last)",
      "\u001b[0;32m<ipython-input-49-b3b83eeb0b2e>\u001b[0m in \u001b[0;36m<module>\u001b[0;34m\u001b[0m\n\u001b[0;32m----> 1\u001b[0;31m \u001b[0mnfckufhslsjsl\u001b[0m\u001b[0;34m\u001b[0m\u001b[0;34m\u001b[0m\u001b[0m\n\u001b[0m",
      "\u001b[0;31mNameError\u001b[0m: name 'nfckufhslsjsl' is not defined"
     ]
    }
   ],
   "source": [
    "nfckufhslsjsl"
   ]
  },
  {
   "cell_type": "code",
   "execution_count": 50,
   "metadata": {},
   "outputs": [
    {
     "ename": "ZeroDivisionError",
     "evalue": "division by zero",
     "output_type": "error",
     "traceback": [
      "\u001b[0;31m---------------------------------------------------------------------------\u001b[0m",
      "\u001b[0;31mZeroDivisionError\u001b[0m                         Traceback (most recent call last)",
      "\u001b[0;32m<ipython-input-50-9ab73e148374>\u001b[0m in \u001b[0;36m<module>\u001b[0;34m\u001b[0m\n\u001b[0;32m----> 1\u001b[0;31m \u001b[0;36m0\u001b[0m\u001b[0;34m/\u001b[0m\u001b[0;36m0\u001b[0m\u001b[0;34m\u001b[0m\u001b[0;34m\u001b[0m\u001b[0m\n\u001b[0m",
      "\u001b[0;31mZeroDivisionError\u001b[0m: division by zero"
     ]
    }
   ],
   "source": [
    "0/0"
   ]
  },
  {
   "cell_type": "code",
   "execution_count": null,
   "metadata": {},
   "outputs": [],
   "source": [
    "while True:\n",
    "    pass"
   ]
  },
  {
   "cell_type": "markdown",
   "metadata": {},
   "source": [
    "Essai (bac de sable)\n",
    "----------------------------"
   ]
  },
  {
   "cell_type": "code",
   "execution_count": 51,
   "metadata": {},
   "outputs": [
    {
     "data": {
      "text/plain": [
       "2"
      ]
     },
     "execution_count": 51,
     "metadata": {},
     "output_type": "execute_result"
    }
   ],
   "source": [
    "1+1"
   ]
  },
  {
   "cell_type": "code",
   "execution_count": 52,
   "metadata": {},
   "outputs": [
    {
     "data": {
      "text/plain": [
       "0"
      ]
     },
     "execution_count": 52,
     "metadata": {},
     "output_type": "execute_result"
    }
   ],
   "source": [
    "import os\n",
    "os.system(\"ls -l\")"
   ]
  },
  {
   "cell_type": "code",
   "execution_count": 53,
   "metadata": {},
   "outputs": [
    {
     "name": "stdout",
     "output_type": "stream",
     "text": [
      "Hello world!\n"
     ]
    }
   ],
   "source": [
    "print(\"Hello world!\")"
   ]
  },
  {
   "cell_type": "code",
   "execution_count": 54,
   "metadata": {},
   "outputs": [],
   "source": [
    "a = 1\n",
    "b = 2\n",
    "c = 3"
   ]
  },
  {
   "cell_type": "code",
   "execution_count": 55,
   "metadata": {},
   "outputs": [
    {
     "data": {
      "text/plain": [
       "2"
      ]
     },
     "execution_count": 55,
     "metadata": {},
     "output_type": "execute_result"
    }
   ],
   "source": [
    "b"
   ]
  },
  {
   "cell_type": "markdown",
   "metadata": {},
   "source": [
    "Bytecode\n",
    "--------\n"
   ]
  },
  {
   "cell_type": "code",
   "execution_count": 58,
   "metadata": {},
   "outputs": [],
   "source": [
    "def f(x):\n",
    "    return x + 1"
   ]
  },
  {
   "cell_type": "code",
   "execution_count": 59,
   "metadata": {},
   "outputs": [
    {
     "data": {
      "text/plain": [
       "3"
      ]
     },
     "execution_count": 59,
     "metadata": {},
     "output_type": "execute_result"
    }
   ],
   "source": [
    "f(2)"
   ]
  },
  {
   "cell_type": "code",
   "execution_count": 60,
   "metadata": {},
   "outputs": [
    {
     "name": "stdout",
     "output_type": "stream",
     "text": [
      "  2           0 LOAD_FAST                0 (x)\n",
      "              2 LOAD_CONST               1 (1)\n",
      "              4 BINARY_ADD\n",
      "              6 RETURN_VALUE\n"
     ]
    }
   ],
   "source": [
    "import dis\n",
    "dis.dis(f)"
   ]
  },
  {
   "cell_type": "markdown",
   "metadata": {},
   "source": [
    "NumPy\n",
    "------"
   ]
  },
  {
   "cell_type": "code",
   "execution_count": 114,
   "metadata": {},
   "outputs": [],
   "source": [
    "from numpy import *"
   ]
  },
  {
   "cell_type": "code",
   "execution_count": 115,
   "metadata": {},
   "outputs": [
    {
     "data": {
      "text/plain": [
       "<function numpy.array>"
      ]
     },
     "execution_count": 115,
     "metadata": {},
     "output_type": "execute_result"
    }
   ],
   "source": [
    "array"
   ]
  },
  {
   "cell_type": "code",
   "execution_count": 117,
   "metadata": {},
   "outputs": [],
   "source": [
    "a = array([1, 2, 3])"
   ]
  },
  {
   "cell_type": "code",
   "execution_count": 118,
   "metadata": {},
   "outputs": [
    {
     "data": {
      "text/plain": [
       "dtype('int64')"
      ]
     },
     "execution_count": 118,
     "metadata": {},
     "output_type": "execute_result"
    }
   ],
   "source": [
    "a.dtype"
   ]
  },
  {
   "cell_type": "code",
   "execution_count": 119,
   "metadata": {},
   "outputs": [],
   "source": [
    "b = array([1.0, 2.0, 3.14])"
   ]
  },
  {
   "cell_type": "code",
   "execution_count": 121,
   "metadata": {},
   "outputs": [
    {
     "ename": "OverflowError",
     "evalue": "Python int too large to convert to C long",
     "output_type": "error",
     "traceback": [
      "\u001b[0;31m---------------------------------------------------------------------------\u001b[0m",
      "\u001b[0;31mOverflowError\u001b[0m                             Traceback (most recent call last)",
      "\u001b[0;32m<ipython-input-121-2477e0e90738>\u001b[0m in \u001b[0;36m<module>\u001b[0;34m\u001b[0m\n\u001b[0;32m----> 1\u001b[0;31m \u001b[0mint64\u001b[0m\u001b[0;34m(\u001b[0m\u001b[0;36m2\u001b[0m\u001b[0;34m**\u001b[0m\u001b[0;36m1000\u001b[0m\u001b[0;34m)\u001b[0m\u001b[0;34m\u001b[0m\u001b[0;34m\u001b[0m\u001b[0m\n\u001b[0m",
      "\u001b[0;31mOverflowError\u001b[0m: Python int too large to convert to C long"
     ]
    }
   ],
   "source": [
    "int64(2**1000)"
   ]
  },
  {
   "cell_type": "code",
   "execution_count": 123,
   "metadata": {},
   "outputs": [],
   "source": [
    "c = array([1.0, 2.0, 2**1000])"
   ]
  },
  {
   "cell_type": "code",
   "execution_count": 124,
   "metadata": {},
   "outputs": [
    {
     "data": {
      "text/plain": [
       "dtype('O')"
      ]
     },
     "execution_count": 124,
     "metadata": {},
     "output_type": "execute_result"
    }
   ],
   "source": [
    "c.dtype"
   ]
  },
  {
   "cell_type": "code",
   "execution_count": 126,
   "metadata": {},
   "outputs": [],
   "source": [
    "d = array([1.0, 2.0 + 1.0j])"
   ]
  },
  {
   "cell_type": "code",
   "execution_count": 127,
   "metadata": {},
   "outputs": [
    {
     "data": {
      "text/plain": [
       "dtype('complex128')"
      ]
     },
     "execution_count": 127,
     "metadata": {},
     "output_type": "execute_result"
    }
   ],
   "source": [
    "d.dtype"
   ]
  },
  {
   "cell_type": "code",
   "execution_count": 132,
   "metadata": {},
   "outputs": [],
   "source": [
    "e = array([[1,2, 3 ], [4, 5 ,6]])"
   ]
  },
  {
   "cell_type": "code",
   "execution_count": 145,
   "metadata": {},
   "outputs": [
    {
     "data": {
      "text/plain": [
       "(2, 3)"
      ]
     },
     "execution_count": 145,
     "metadata": {},
     "output_type": "execute_result"
    }
   ],
   "source": [
    "e.shape"
   ]
  },
  {
   "cell_type": "code",
   "execution_count": 146,
   "metadata": {},
   "outputs": [
    {
     "data": {
      "text/plain": [
       "array([[1, 4],\n",
       "       [2, 5],\n",
       "       [3, 6]])"
      ]
     },
     "execution_count": 146,
     "metadata": {},
     "output_type": "execute_result"
    }
   ],
   "source": [
    "e.T"
   ]
  },
  {
   "cell_type": "code",
   "execution_count": 135,
   "metadata": {},
   "outputs": [
    {
     "data": {
      "text/plain": [
       "array([list([1, 2, 3]), list([4, 6])], dtype=object)"
      ]
     },
     "execution_count": 135,
     "metadata": {},
     "output_type": "execute_result"
    }
   ],
   "source": [
    "array([[1,2, 3 ], [4,6]])# urk !"
   ]
  },
  {
   "cell_type": "code",
   "execution_count": 136,
   "metadata": {},
   "outputs": [],
   "source": [
    "f = array([[[1,2,3], [4, 4, 4]]])"
   ]
  },
  {
   "cell_type": "code",
   "execution_count": 137,
   "metadata": {},
   "outputs": [
    {
     "data": {
      "text/plain": [
       "(1, 2, 3)"
      ]
     },
     "execution_count": 137,
     "metadata": {},
     "output_type": "execute_result"
    }
   ],
   "source": [
    "f.shape"
   ]
  },
  {
   "cell_type": "code",
   "execution_count": 142,
   "metadata": {},
   "outputs": [
    {
     "data": {
      "text/plain": [
       "array([[1, 2, 3],\n",
       "       [4, 4, 4]])"
      ]
     },
     "execution_count": 142,
     "metadata": {},
     "output_type": "execute_result"
    }
   ],
   "source": [
    "reshape(f, (2, 3))"
   ]
  },
  {
   "cell_type": "code",
   "execution_count": 143,
   "metadata": {},
   "outputs": [
    {
     "data": {
      "text/plain": [
       "array([[1],\n",
       "       [2],\n",
       "       [3],\n",
       "       [4],\n",
       "       [4],\n",
       "       [4]])"
      ]
     },
     "execution_count": 143,
     "metadata": {},
     "output_type": "execute_result"
    }
   ],
   "source": [
    "reshape(f, (6, 1))"
   ]
  },
  {
   "cell_type": "code",
   "execution_count": 144,
   "metadata": {},
   "outputs": [
    {
     "data": {
      "text/plain": [
       "array([1, 2, 3, 4, 4, 4])"
      ]
     },
     "execution_count": 144,
     "metadata": {},
     "output_type": "execute_result"
    }
   ],
   "source": [
    "reshape(f, (6,))"
   ]
  },
  {
   "cell_type": "code",
   "execution_count": 147,
   "metadata": {},
   "outputs": [
    {
     "data": {
      "text/plain": [
       "array([[[1, 2, 3],\n",
       "        [4, 4, 4]]])"
      ]
     },
     "execution_count": 147,
     "metadata": {},
     "output_type": "execute_result"
    }
   ],
   "source": [
    "f"
   ]
  },
  {
   "cell_type": "code",
   "execution_count": 149,
   "metadata": {},
   "outputs": [
    {
     "data": {
      "text/plain": [
       "(3, 2, 1)"
      ]
     },
     "execution_count": 149,
     "metadata": {},
     "output_type": "execute_result"
    }
   ],
   "source": [
    "f.T.shape"
   ]
  },
  {
   "cell_type": "code",
   "execution_count": 131,
   "metadata": {},
   "outputs": [],
   "source": [
    "m = matrix([[1, 2], [3, 4]])"
   ]
  },
  {
   "cell_type": "code",
   "execution_count": 138,
   "metadata": {},
   "outputs": [
    {
     "data": {
      "text/plain": [
       "(3,)"
      ]
     },
     "execution_count": 138,
     "metadata": {},
     "output_type": "execute_result"
    }
   ],
   "source": [
    "array([1, 2, 3]).shape"
   ]
  },
  {
   "cell_type": "code",
   "execution_count": 140,
   "metadata": {},
   "outputs": [
    {
     "data": {
      "text/plain": [
       "()"
      ]
     },
     "execution_count": 140,
     "metadata": {},
     "output_type": "execute_result"
    }
   ],
   "source": [
    "array(9.0).shape"
   ]
  },
  {
   "cell_type": "code",
   "execution_count": 141,
   "metadata": {},
   "outputs": [
    {
     "data": {
      "text/plain": [
       "(1,)"
      ]
     },
     "execution_count": 141,
     "metadata": {},
     "output_type": "execute_result"
    }
   ],
   "source": [
    "array([9.0]).shape"
   ]
  },
  {
   "cell_type": "code",
   "execution_count": 150,
   "metadata": {},
   "outputs": [
    {
     "data": {
      "text/plain": [
       "array([[[1, 2, 3],\n",
       "        [4, 4, 4]]])"
      ]
     },
     "execution_count": 150,
     "metadata": {},
     "output_type": "execute_result"
    }
   ],
   "source": [
    "f"
   ]
  },
  {
   "cell_type": "code",
   "execution_count": 152,
   "metadata": {},
   "outputs": [
    {
     "data": {
      "text/plain": [
       "4"
      ]
     },
     "execution_count": 152,
     "metadata": {},
     "output_type": "execute_result"
    }
   ],
   "source": [
    "f[0,1,2]"
   ]
  },
  {
   "cell_type": "markdown",
   "metadata": {},
   "source": [
    "Matplotlib\n",
    "-------------"
   ]
  },
  {
   "cell_type": "code",
   "execution_count": 154,
   "metadata": {},
   "outputs": [],
   "source": [
    "from matplotlib.pyplot import *\n",
    "%matplotlib notebook"
   ]
  },
  {
   "cell_type": "code",
   "execution_count": 155,
   "metadata": {},
   "outputs": [],
   "source": [
    "f = 440.0\n",
    "df = 44100.0\n",
    "dt = 1.0 / df\n",
    "T = 0.010"
   ]
  },
  {
   "cell_type": "markdown",
   "metadata": {},
   "source": [
    "<https://docs.scipy.org/doc/numpy-1.15.1/reference/generated/numpy.r_.html>"
   ]
  },
  {
   "cell_type": "code",
   "execution_count": 157,
   "metadata": {},
   "outputs": [],
   "source": [
    "t = r_[0.0:T:dt]"
   ]
  },
  {
   "cell_type": "code",
   "execution_count": 158,
   "metadata": {},
   "outputs": [],
   "source": [
    "x = sin(2*pi*f*t)"
   ]
  },
  {
   "cell_type": "code",
   "execution_count": 162,
   "metadata": {},
   "outputs": [
    {
     "data": {
      "application/javascript": [
       "/* Put everything inside the global mpl namespace */\n",
       "window.mpl = {};\n",
       "\n",
       "\n",
       "mpl.get_websocket_type = function() {\n",
       "    if (typeof(WebSocket) !== 'undefined') {\n",
       "        return WebSocket;\n",
       "    } else if (typeof(MozWebSocket) !== 'undefined') {\n",
       "        return MozWebSocket;\n",
       "    } else {\n",
       "        alert('Your browser does not have WebSocket support.' +\n",
       "              'Please try Chrome, Safari or Firefox ≥ 6. ' +\n",
       "              'Firefox 4 and 5 are also supported but you ' +\n",
       "              'have to enable WebSockets in about:config.');\n",
       "    };\n",
       "}\n",
       "\n",
       "mpl.figure = function(figure_id, websocket, ondownload, parent_element) {\n",
       "    this.id = figure_id;\n",
       "\n",
       "    this.ws = websocket;\n",
       "\n",
       "    this.supports_binary = (this.ws.binaryType != undefined);\n",
       "\n",
       "    if (!this.supports_binary) {\n",
       "        var warnings = document.getElementById(\"mpl-warnings\");\n",
       "        if (warnings) {\n",
       "            warnings.style.display = 'block';\n",
       "            warnings.textContent = (\n",
       "                \"This browser does not support binary websocket messages. \" +\n",
       "                    \"Performance may be slow.\");\n",
       "        }\n",
       "    }\n",
       "\n",
       "    this.imageObj = new Image();\n",
       "\n",
       "    this.context = undefined;\n",
       "    this.message = undefined;\n",
       "    this.canvas = undefined;\n",
       "    this.rubberband_canvas = undefined;\n",
       "    this.rubberband_context = undefined;\n",
       "    this.format_dropdown = undefined;\n",
       "\n",
       "    this.image_mode = 'full';\n",
       "\n",
       "    this.root = $('<div/>');\n",
       "    this._root_extra_style(this.root)\n",
       "    this.root.attr('style', 'display: inline-block');\n",
       "\n",
       "    $(parent_element).append(this.root);\n",
       "\n",
       "    this._init_header(this);\n",
       "    this._init_canvas(this);\n",
       "    this._init_toolbar(this);\n",
       "\n",
       "    var fig = this;\n",
       "\n",
       "    this.waiting = false;\n",
       "\n",
       "    this.ws.onopen =  function () {\n",
       "            fig.send_message(\"supports_binary\", {value: fig.supports_binary});\n",
       "            fig.send_message(\"send_image_mode\", {});\n",
       "            if (mpl.ratio != 1) {\n",
       "                fig.send_message(\"set_dpi_ratio\", {'dpi_ratio': mpl.ratio});\n",
       "            }\n",
       "            fig.send_message(\"refresh\", {});\n",
       "        }\n",
       "\n",
       "    this.imageObj.onload = function() {\n",
       "            if (fig.image_mode == 'full') {\n",
       "                // Full images could contain transparency (where diff images\n",
       "                // almost always do), so we need to clear the canvas so that\n",
       "                // there is no ghosting.\n",
       "                fig.context.clearRect(0, 0, fig.canvas.width, fig.canvas.height);\n",
       "            }\n",
       "            fig.context.drawImage(fig.imageObj, 0, 0);\n",
       "        };\n",
       "\n",
       "    this.imageObj.onunload = function() {\n",
       "        fig.ws.close();\n",
       "    }\n",
       "\n",
       "    this.ws.onmessage = this._make_on_message_function(this);\n",
       "\n",
       "    this.ondownload = ondownload;\n",
       "}\n",
       "\n",
       "mpl.figure.prototype._init_header = function() {\n",
       "    var titlebar = $(\n",
       "        '<div class=\"ui-dialog-titlebar ui-widget-header ui-corner-all ' +\n",
       "        'ui-helper-clearfix\"/>');\n",
       "    var titletext = $(\n",
       "        '<div class=\"ui-dialog-title\" style=\"width: 100%; ' +\n",
       "        'text-align: center; padding: 3px;\"/>');\n",
       "    titlebar.append(titletext)\n",
       "    this.root.append(titlebar);\n",
       "    this.header = titletext[0];\n",
       "}\n",
       "\n",
       "\n",
       "\n",
       "mpl.figure.prototype._canvas_extra_style = function(canvas_div) {\n",
       "\n",
       "}\n",
       "\n",
       "\n",
       "mpl.figure.prototype._root_extra_style = function(canvas_div) {\n",
       "\n",
       "}\n",
       "\n",
       "mpl.figure.prototype._init_canvas = function() {\n",
       "    var fig = this;\n",
       "\n",
       "    var canvas_div = $('<div/>');\n",
       "\n",
       "    canvas_div.attr('style', 'position: relative; clear: both; outline: 0');\n",
       "\n",
       "    function canvas_keyboard_event(event) {\n",
       "        return fig.key_event(event, event['data']);\n",
       "    }\n",
       "\n",
       "    canvas_div.keydown('key_press', canvas_keyboard_event);\n",
       "    canvas_div.keyup('key_release', canvas_keyboard_event);\n",
       "    this.canvas_div = canvas_div\n",
       "    this._canvas_extra_style(canvas_div)\n",
       "    this.root.append(canvas_div);\n",
       "\n",
       "    var canvas = $('<canvas/>');\n",
       "    canvas.addClass('mpl-canvas');\n",
       "    canvas.attr('style', \"left: 0; top: 0; z-index: 0; outline: 0\")\n",
       "\n",
       "    this.canvas = canvas[0];\n",
       "    this.context = canvas[0].getContext(\"2d\");\n",
       "\n",
       "    var backingStore = this.context.backingStorePixelRatio ||\n",
       "\tthis.context.webkitBackingStorePixelRatio ||\n",
       "\tthis.context.mozBackingStorePixelRatio ||\n",
       "\tthis.context.msBackingStorePixelRatio ||\n",
       "\tthis.context.oBackingStorePixelRatio ||\n",
       "\tthis.context.backingStorePixelRatio || 1;\n",
       "\n",
       "    mpl.ratio = (window.devicePixelRatio || 1) / backingStore;\n",
       "\n",
       "    var rubberband = $('<canvas/>');\n",
       "    rubberband.attr('style', \"position: absolute; left: 0; top: 0; z-index: 1;\")\n",
       "\n",
       "    var pass_mouse_events = true;\n",
       "\n",
       "    canvas_div.resizable({\n",
       "        start: function(event, ui) {\n",
       "            pass_mouse_events = false;\n",
       "        },\n",
       "        resize: function(event, ui) {\n",
       "            fig.request_resize(ui.size.width, ui.size.height);\n",
       "        },\n",
       "        stop: function(event, ui) {\n",
       "            pass_mouse_events = true;\n",
       "            fig.request_resize(ui.size.width, ui.size.height);\n",
       "        },\n",
       "    });\n",
       "\n",
       "    function mouse_event_fn(event) {\n",
       "        if (pass_mouse_events)\n",
       "            return fig.mouse_event(event, event['data']);\n",
       "    }\n",
       "\n",
       "    rubberband.mousedown('button_press', mouse_event_fn);\n",
       "    rubberband.mouseup('button_release', mouse_event_fn);\n",
       "    // Throttle sequential mouse events to 1 every 20ms.\n",
       "    rubberband.mousemove('motion_notify', mouse_event_fn);\n",
       "\n",
       "    rubberband.mouseenter('figure_enter', mouse_event_fn);\n",
       "    rubberband.mouseleave('figure_leave', mouse_event_fn);\n",
       "\n",
       "    canvas_div.on(\"wheel\", function (event) {\n",
       "        event = event.originalEvent;\n",
       "        event['data'] = 'scroll'\n",
       "        if (event.deltaY < 0) {\n",
       "            event.step = 1;\n",
       "        } else {\n",
       "            event.step = -1;\n",
       "        }\n",
       "        mouse_event_fn(event);\n",
       "    });\n",
       "\n",
       "    canvas_div.append(canvas);\n",
       "    canvas_div.append(rubberband);\n",
       "\n",
       "    this.rubberband = rubberband;\n",
       "    this.rubberband_canvas = rubberband[0];\n",
       "    this.rubberband_context = rubberband[0].getContext(\"2d\");\n",
       "    this.rubberband_context.strokeStyle = \"#000000\";\n",
       "\n",
       "    this._resize_canvas = function(width, height) {\n",
       "        // Keep the size of the canvas, canvas container, and rubber band\n",
       "        // canvas in synch.\n",
       "        canvas_div.css('width', width)\n",
       "        canvas_div.css('height', height)\n",
       "\n",
       "        canvas.attr('width', width * mpl.ratio);\n",
       "        canvas.attr('height', height * mpl.ratio);\n",
       "        canvas.attr('style', 'width: ' + width + 'px; height: ' + height + 'px;');\n",
       "\n",
       "        rubberband.attr('width', width);\n",
       "        rubberband.attr('height', height);\n",
       "    }\n",
       "\n",
       "    // Set the figure to an initial 600x600px, this will subsequently be updated\n",
       "    // upon first draw.\n",
       "    this._resize_canvas(600, 600);\n",
       "\n",
       "    // Disable right mouse context menu.\n",
       "    $(this.rubberband_canvas).bind(\"contextmenu\",function(e){\n",
       "        return false;\n",
       "    });\n",
       "\n",
       "    function set_focus () {\n",
       "        canvas.focus();\n",
       "        canvas_div.focus();\n",
       "    }\n",
       "\n",
       "    window.setTimeout(set_focus, 100);\n",
       "}\n",
       "\n",
       "mpl.figure.prototype._init_toolbar = function() {\n",
       "    var fig = this;\n",
       "\n",
       "    var nav_element = $('<div/>')\n",
       "    nav_element.attr('style', 'width: 100%');\n",
       "    this.root.append(nav_element);\n",
       "\n",
       "    // Define a callback function for later on.\n",
       "    function toolbar_event(event) {\n",
       "        return fig.toolbar_button_onclick(event['data']);\n",
       "    }\n",
       "    function toolbar_mouse_event(event) {\n",
       "        return fig.toolbar_button_onmouseover(event['data']);\n",
       "    }\n",
       "\n",
       "    for(var toolbar_ind in mpl.toolbar_items) {\n",
       "        var name = mpl.toolbar_items[toolbar_ind][0];\n",
       "        var tooltip = mpl.toolbar_items[toolbar_ind][1];\n",
       "        var image = mpl.toolbar_items[toolbar_ind][2];\n",
       "        var method_name = mpl.toolbar_items[toolbar_ind][3];\n",
       "\n",
       "        if (!name) {\n",
       "            // put a spacer in here.\n",
       "            continue;\n",
       "        }\n",
       "        var button = $('<button/>');\n",
       "        button.addClass('ui-button ui-widget ui-state-default ui-corner-all ' +\n",
       "                        'ui-button-icon-only');\n",
       "        button.attr('role', 'button');\n",
       "        button.attr('aria-disabled', 'false');\n",
       "        button.click(method_name, toolbar_event);\n",
       "        button.mouseover(tooltip, toolbar_mouse_event);\n",
       "\n",
       "        var icon_img = $('<span/>');\n",
       "        icon_img.addClass('ui-button-icon-primary ui-icon');\n",
       "        icon_img.addClass(image);\n",
       "        icon_img.addClass('ui-corner-all');\n",
       "\n",
       "        var tooltip_span = $('<span/>');\n",
       "        tooltip_span.addClass('ui-button-text');\n",
       "        tooltip_span.html(tooltip);\n",
       "\n",
       "        button.append(icon_img);\n",
       "        button.append(tooltip_span);\n",
       "\n",
       "        nav_element.append(button);\n",
       "    }\n",
       "\n",
       "    var fmt_picker_span = $('<span/>');\n",
       "\n",
       "    var fmt_picker = $('<select/>');\n",
       "    fmt_picker.addClass('mpl-toolbar-option ui-widget ui-widget-content');\n",
       "    fmt_picker_span.append(fmt_picker);\n",
       "    nav_element.append(fmt_picker_span);\n",
       "    this.format_dropdown = fmt_picker[0];\n",
       "\n",
       "    for (var ind in mpl.extensions) {\n",
       "        var fmt = mpl.extensions[ind];\n",
       "        var option = $(\n",
       "            '<option/>', {selected: fmt === mpl.default_extension}).html(fmt);\n",
       "        fmt_picker.append(option)\n",
       "    }\n",
       "\n",
       "    // Add hover states to the ui-buttons\n",
       "    $( \".ui-button\" ).hover(\n",
       "        function() { $(this).addClass(\"ui-state-hover\");},\n",
       "        function() { $(this).removeClass(\"ui-state-hover\");}\n",
       "    );\n",
       "\n",
       "    var status_bar = $('<span class=\"mpl-message\"/>');\n",
       "    nav_element.append(status_bar);\n",
       "    this.message = status_bar[0];\n",
       "}\n",
       "\n",
       "mpl.figure.prototype.request_resize = function(x_pixels, y_pixels) {\n",
       "    // Request matplotlib to resize the figure. Matplotlib will then trigger a resize in the client,\n",
       "    // which will in turn request a refresh of the image.\n",
       "    this.send_message('resize', {'width': x_pixels, 'height': y_pixels});\n",
       "}\n",
       "\n",
       "mpl.figure.prototype.send_message = function(type, properties) {\n",
       "    properties['type'] = type;\n",
       "    properties['figure_id'] = this.id;\n",
       "    this.ws.send(JSON.stringify(properties));\n",
       "}\n",
       "\n",
       "mpl.figure.prototype.send_draw_message = function() {\n",
       "    if (!this.waiting) {\n",
       "        this.waiting = true;\n",
       "        this.ws.send(JSON.stringify({type: \"draw\", figure_id: this.id}));\n",
       "    }\n",
       "}\n",
       "\n",
       "\n",
       "mpl.figure.prototype.handle_save = function(fig, msg) {\n",
       "    var format_dropdown = fig.format_dropdown;\n",
       "    var format = format_dropdown.options[format_dropdown.selectedIndex].value;\n",
       "    fig.ondownload(fig, format);\n",
       "}\n",
       "\n",
       "\n",
       "mpl.figure.prototype.handle_resize = function(fig, msg) {\n",
       "    var size = msg['size'];\n",
       "    if (size[0] != fig.canvas.width || size[1] != fig.canvas.height) {\n",
       "        fig._resize_canvas(size[0], size[1]);\n",
       "        fig.send_message(\"refresh\", {});\n",
       "    };\n",
       "}\n",
       "\n",
       "mpl.figure.prototype.handle_rubberband = function(fig, msg) {\n",
       "    var x0 = msg['x0'] / mpl.ratio;\n",
       "    var y0 = (fig.canvas.height - msg['y0']) / mpl.ratio;\n",
       "    var x1 = msg['x1'] / mpl.ratio;\n",
       "    var y1 = (fig.canvas.height - msg['y1']) / mpl.ratio;\n",
       "    x0 = Math.floor(x0) + 0.5;\n",
       "    y0 = Math.floor(y0) + 0.5;\n",
       "    x1 = Math.floor(x1) + 0.5;\n",
       "    y1 = Math.floor(y1) + 0.5;\n",
       "    var min_x = Math.min(x0, x1);\n",
       "    var min_y = Math.min(y0, y1);\n",
       "    var width = Math.abs(x1 - x0);\n",
       "    var height = Math.abs(y1 - y0);\n",
       "\n",
       "    fig.rubberband_context.clearRect(\n",
       "        0, 0, fig.canvas.width, fig.canvas.height);\n",
       "\n",
       "    fig.rubberband_context.strokeRect(min_x, min_y, width, height);\n",
       "}\n",
       "\n",
       "mpl.figure.prototype.handle_figure_label = function(fig, msg) {\n",
       "    // Updates the figure title.\n",
       "    fig.header.textContent = msg['label'];\n",
       "}\n",
       "\n",
       "mpl.figure.prototype.handle_cursor = function(fig, msg) {\n",
       "    var cursor = msg['cursor'];\n",
       "    switch(cursor)\n",
       "    {\n",
       "    case 0:\n",
       "        cursor = 'pointer';\n",
       "        break;\n",
       "    case 1:\n",
       "        cursor = 'default';\n",
       "        break;\n",
       "    case 2:\n",
       "        cursor = 'crosshair';\n",
       "        break;\n",
       "    case 3:\n",
       "        cursor = 'move';\n",
       "        break;\n",
       "    }\n",
       "    fig.rubberband_canvas.style.cursor = cursor;\n",
       "}\n",
       "\n",
       "mpl.figure.prototype.handle_message = function(fig, msg) {\n",
       "    fig.message.textContent = msg['message'];\n",
       "}\n",
       "\n",
       "mpl.figure.prototype.handle_draw = function(fig, msg) {\n",
       "    // Request the server to send over a new figure.\n",
       "    fig.send_draw_message();\n",
       "}\n",
       "\n",
       "mpl.figure.prototype.handle_image_mode = function(fig, msg) {\n",
       "    fig.image_mode = msg['mode'];\n",
       "}\n",
       "\n",
       "mpl.figure.prototype.updated_canvas_event = function() {\n",
       "    // Called whenever the canvas gets updated.\n",
       "    this.send_message(\"ack\", {});\n",
       "}\n",
       "\n",
       "// A function to construct a web socket function for onmessage handling.\n",
       "// Called in the figure constructor.\n",
       "mpl.figure.prototype._make_on_message_function = function(fig) {\n",
       "    return function socket_on_message(evt) {\n",
       "        if (evt.data instanceof Blob) {\n",
       "            /* FIXME: We get \"Resource interpreted as Image but\n",
       "             * transferred with MIME type text/plain:\" errors on\n",
       "             * Chrome.  But how to set the MIME type?  It doesn't seem\n",
       "             * to be part of the websocket stream */\n",
       "            evt.data.type = \"image/png\";\n",
       "\n",
       "            /* Free the memory for the previous frames */\n",
       "            if (fig.imageObj.src) {\n",
       "                (window.URL || window.webkitURL).revokeObjectURL(\n",
       "                    fig.imageObj.src);\n",
       "            }\n",
       "\n",
       "            fig.imageObj.src = (window.URL || window.webkitURL).createObjectURL(\n",
       "                evt.data);\n",
       "            fig.updated_canvas_event();\n",
       "            fig.waiting = false;\n",
       "            return;\n",
       "        }\n",
       "        else if (typeof evt.data === 'string' && evt.data.slice(0, 21) == \"data:image/png;base64\") {\n",
       "            fig.imageObj.src = evt.data;\n",
       "            fig.updated_canvas_event();\n",
       "            fig.waiting = false;\n",
       "            return;\n",
       "        }\n",
       "\n",
       "        var msg = JSON.parse(evt.data);\n",
       "        var msg_type = msg['type'];\n",
       "\n",
       "        // Call the  \"handle_{type}\" callback, which takes\n",
       "        // the figure and JSON message as its only arguments.\n",
       "        try {\n",
       "            var callback = fig[\"handle_\" + msg_type];\n",
       "        } catch (e) {\n",
       "            console.log(\"No handler for the '\" + msg_type + \"' message type: \", msg);\n",
       "            return;\n",
       "        }\n",
       "\n",
       "        if (callback) {\n",
       "            try {\n",
       "                // console.log(\"Handling '\" + msg_type + \"' message: \", msg);\n",
       "                callback(fig, msg);\n",
       "            } catch (e) {\n",
       "                console.log(\"Exception inside the 'handler_\" + msg_type + \"' callback:\", e, e.stack, msg);\n",
       "            }\n",
       "        }\n",
       "    };\n",
       "}\n",
       "\n",
       "// from http://stackoverflow.com/questions/1114465/getting-mouse-location-in-canvas\n",
       "mpl.findpos = function(e) {\n",
       "    //this section is from http://www.quirksmode.org/js/events_properties.html\n",
       "    var targ;\n",
       "    if (!e)\n",
       "        e = window.event;\n",
       "    if (e.target)\n",
       "        targ = e.target;\n",
       "    else if (e.srcElement)\n",
       "        targ = e.srcElement;\n",
       "    if (targ.nodeType == 3) // defeat Safari bug\n",
       "        targ = targ.parentNode;\n",
       "\n",
       "    // jQuery normalizes the pageX and pageY\n",
       "    // pageX,Y are the mouse positions relative to the document\n",
       "    // offset() returns the position of the element relative to the document\n",
       "    var x = e.pageX - $(targ).offset().left;\n",
       "    var y = e.pageY - $(targ).offset().top;\n",
       "\n",
       "    return {\"x\": x, \"y\": y};\n",
       "};\n",
       "\n",
       "/*\n",
       " * return a copy of an object with only non-object keys\n",
       " * we need this to avoid circular references\n",
       " * http://stackoverflow.com/a/24161582/3208463\n",
       " */\n",
       "function simpleKeys (original) {\n",
       "  return Object.keys(original).reduce(function (obj, key) {\n",
       "    if (typeof original[key] !== 'object')\n",
       "        obj[key] = original[key]\n",
       "    return obj;\n",
       "  }, {});\n",
       "}\n",
       "\n",
       "mpl.figure.prototype.mouse_event = function(event, name) {\n",
       "    var canvas_pos = mpl.findpos(event)\n",
       "\n",
       "    if (name === 'button_press')\n",
       "    {\n",
       "        this.canvas.focus();\n",
       "        this.canvas_div.focus();\n",
       "    }\n",
       "\n",
       "    var x = canvas_pos.x * mpl.ratio;\n",
       "    var y = canvas_pos.y * mpl.ratio;\n",
       "\n",
       "    this.send_message(name, {x: x, y: y, button: event.button,\n",
       "                             step: event.step,\n",
       "                             guiEvent: simpleKeys(event)});\n",
       "\n",
       "    /* This prevents the web browser from automatically changing to\n",
       "     * the text insertion cursor when the button is pressed.  We want\n",
       "     * to control all of the cursor setting manually through the\n",
       "     * 'cursor' event from matplotlib */\n",
       "    event.preventDefault();\n",
       "    return false;\n",
       "}\n",
       "\n",
       "mpl.figure.prototype._key_event_extra = function(event, name) {\n",
       "    // Handle any extra behaviour associated with a key event\n",
       "}\n",
       "\n",
       "mpl.figure.prototype.key_event = function(event, name) {\n",
       "\n",
       "    // Prevent repeat events\n",
       "    if (name == 'key_press')\n",
       "    {\n",
       "        if (event.which === this._key)\n",
       "            return;\n",
       "        else\n",
       "            this._key = event.which;\n",
       "    }\n",
       "    if (name == 'key_release')\n",
       "        this._key = null;\n",
       "\n",
       "    var value = '';\n",
       "    if (event.ctrlKey && event.which != 17)\n",
       "        value += \"ctrl+\";\n",
       "    if (event.altKey && event.which != 18)\n",
       "        value += \"alt+\";\n",
       "    if (event.shiftKey && event.which != 16)\n",
       "        value += \"shift+\";\n",
       "\n",
       "    value += 'k';\n",
       "    value += event.which.toString();\n",
       "\n",
       "    this._key_event_extra(event, name);\n",
       "\n",
       "    this.send_message(name, {key: value,\n",
       "                             guiEvent: simpleKeys(event)});\n",
       "    return false;\n",
       "}\n",
       "\n",
       "mpl.figure.prototype.toolbar_button_onclick = function(name) {\n",
       "    if (name == 'download') {\n",
       "        this.handle_save(this, null);\n",
       "    } else {\n",
       "        this.send_message(\"toolbar_button\", {name: name});\n",
       "    }\n",
       "};\n",
       "\n",
       "mpl.figure.prototype.toolbar_button_onmouseover = function(tooltip) {\n",
       "    this.message.textContent = tooltip;\n",
       "};\n",
       "mpl.toolbar_items = [[\"Home\", \"Reset original view\", \"fa fa-home icon-home\", \"home\"], [\"Back\", \"Back to previous view\", \"fa fa-arrow-left icon-arrow-left\", \"back\"], [\"Forward\", \"Forward to next view\", \"fa fa-arrow-right icon-arrow-right\", \"forward\"], [\"\", \"\", \"\", \"\"], [\"Pan\", \"Pan axes with left mouse, zoom with right\", \"fa fa-arrows icon-move\", \"pan\"], [\"Zoom\", \"Zoom to rectangle\", \"fa fa-square-o icon-check-empty\", \"zoom\"], [\"\", \"\", \"\", \"\"], [\"Download\", \"Download plot\", \"fa fa-floppy-o icon-save\", \"download\"]];\n",
       "\n",
       "mpl.extensions = [\"eps\", \"jpeg\", \"pdf\", \"png\", \"ps\", \"raw\", \"svg\", \"tif\"];\n",
       "\n",
       "mpl.default_extension = \"png\";var comm_websocket_adapter = function(comm) {\n",
       "    // Create a \"websocket\"-like object which calls the given IPython comm\n",
       "    // object with the appropriate methods. Currently this is a non binary\n",
       "    // socket, so there is still some room for performance tuning.\n",
       "    var ws = {};\n",
       "\n",
       "    ws.close = function() {\n",
       "        comm.close()\n",
       "    };\n",
       "    ws.send = function(m) {\n",
       "        //console.log('sending', m);\n",
       "        comm.send(m);\n",
       "    };\n",
       "    // Register the callback with on_msg.\n",
       "    comm.on_msg(function(msg) {\n",
       "        //console.log('receiving', msg['content']['data'], msg);\n",
       "        // Pass the mpl event to the overridden (by mpl) onmessage function.\n",
       "        ws.onmessage(msg['content']['data'])\n",
       "    });\n",
       "    return ws;\n",
       "}\n",
       "\n",
       "mpl.mpl_figure_comm = function(comm, msg) {\n",
       "    // This is the function which gets called when the mpl process\n",
       "    // starts-up an IPython Comm through the \"matplotlib\" channel.\n",
       "\n",
       "    var id = msg.content.data.id;\n",
       "    // Get hold of the div created by the display call when the Comm\n",
       "    // socket was opened in Python.\n",
       "    var element = $(\"#\" + id);\n",
       "    var ws_proxy = comm_websocket_adapter(comm)\n",
       "\n",
       "    function ondownload(figure, format) {\n",
       "        window.open(figure.imageObj.src);\n",
       "    }\n",
       "\n",
       "    var fig = new mpl.figure(id, ws_proxy,\n",
       "                           ondownload,\n",
       "                           element.get(0));\n",
       "\n",
       "    // Call onopen now - mpl needs it, as it is assuming we've passed it a real\n",
       "    // web socket which is closed, not our websocket->open comm proxy.\n",
       "    ws_proxy.onopen();\n",
       "\n",
       "    fig.parent_element = element.get(0);\n",
       "    fig.cell_info = mpl.find_output_cell(\"<div id='\" + id + \"'></div>\");\n",
       "    if (!fig.cell_info) {\n",
       "        console.error(\"Failed to find cell for figure\", id, fig);\n",
       "        return;\n",
       "    }\n",
       "\n",
       "    var output_index = fig.cell_info[2]\n",
       "    var cell = fig.cell_info[0];\n",
       "\n",
       "};\n",
       "\n",
       "mpl.figure.prototype.handle_close = function(fig, msg) {\n",
       "    var width = fig.canvas.width/mpl.ratio\n",
       "    fig.root.unbind('remove')\n",
       "\n",
       "    // Update the output cell to use the data from the current canvas.\n",
       "    fig.push_to_output();\n",
       "    var dataURL = fig.canvas.toDataURL();\n",
       "    // Re-enable the keyboard manager in IPython - without this line, in FF,\n",
       "    // the notebook keyboard shortcuts fail.\n",
       "    IPython.keyboard_manager.enable()\n",
       "    $(fig.parent_element).html('<img src=\"' + dataURL + '\" width=\"' + width + '\">');\n",
       "    fig.close_ws(fig, msg);\n",
       "}\n",
       "\n",
       "mpl.figure.prototype.close_ws = function(fig, msg){\n",
       "    fig.send_message('closing', msg);\n",
       "    // fig.ws.close()\n",
       "}\n",
       "\n",
       "mpl.figure.prototype.push_to_output = function(remove_interactive) {\n",
       "    // Turn the data on the canvas into data in the output cell.\n",
       "    var width = this.canvas.width/mpl.ratio\n",
       "    var dataURL = this.canvas.toDataURL();\n",
       "    this.cell_info[1]['text/html'] = '<img src=\"' + dataURL + '\" width=\"' + width + '\">';\n",
       "}\n",
       "\n",
       "mpl.figure.prototype.updated_canvas_event = function() {\n",
       "    // Tell IPython that the notebook contents must change.\n",
       "    IPython.notebook.set_dirty(true);\n",
       "    this.send_message(\"ack\", {});\n",
       "    var fig = this;\n",
       "    // Wait a second, then push the new image to the DOM so\n",
       "    // that it is saved nicely (might be nice to debounce this).\n",
       "    setTimeout(function () { fig.push_to_output() }, 1000);\n",
       "}\n",
       "\n",
       "mpl.figure.prototype._init_toolbar = function() {\n",
       "    var fig = this;\n",
       "\n",
       "    var nav_element = $('<div/>')\n",
       "    nav_element.attr('style', 'width: 100%');\n",
       "    this.root.append(nav_element);\n",
       "\n",
       "    // Define a callback function for later on.\n",
       "    function toolbar_event(event) {\n",
       "        return fig.toolbar_button_onclick(event['data']);\n",
       "    }\n",
       "    function toolbar_mouse_event(event) {\n",
       "        return fig.toolbar_button_onmouseover(event['data']);\n",
       "    }\n",
       "\n",
       "    for(var toolbar_ind in mpl.toolbar_items){\n",
       "        var name = mpl.toolbar_items[toolbar_ind][0];\n",
       "        var tooltip = mpl.toolbar_items[toolbar_ind][1];\n",
       "        var image = mpl.toolbar_items[toolbar_ind][2];\n",
       "        var method_name = mpl.toolbar_items[toolbar_ind][3];\n",
       "\n",
       "        if (!name) { continue; };\n",
       "\n",
       "        var button = $('<button class=\"btn btn-default\" href=\"#\" title=\"' + name + '\"><i class=\"fa ' + image + ' fa-lg\"></i></button>');\n",
       "        button.click(method_name, toolbar_event);\n",
       "        button.mouseover(tooltip, toolbar_mouse_event);\n",
       "        nav_element.append(button);\n",
       "    }\n",
       "\n",
       "    // Add the status bar.\n",
       "    var status_bar = $('<span class=\"mpl-message\" style=\"text-align:right; float: right;\"/>');\n",
       "    nav_element.append(status_bar);\n",
       "    this.message = status_bar[0];\n",
       "\n",
       "    // Add the close button to the window.\n",
       "    var buttongrp = $('<div class=\"btn-group inline pull-right\"></div>');\n",
       "    var button = $('<button class=\"btn btn-mini btn-primary\" href=\"#\" title=\"Stop Interaction\"><i class=\"fa fa-power-off icon-remove icon-large\"></i></button>');\n",
       "    button.click(function (evt) { fig.handle_close(fig, {}); } );\n",
       "    button.mouseover('Stop Interaction', toolbar_mouse_event);\n",
       "    buttongrp.append(button);\n",
       "    var titlebar = this.root.find($('.ui-dialog-titlebar'));\n",
       "    titlebar.prepend(buttongrp);\n",
       "}\n",
       "\n",
       "mpl.figure.prototype._root_extra_style = function(el){\n",
       "    var fig = this\n",
       "    el.on(\"remove\", function(){\n",
       "\tfig.close_ws(fig, {});\n",
       "    });\n",
       "}\n",
       "\n",
       "mpl.figure.prototype._canvas_extra_style = function(el){\n",
       "    // this is important to make the div 'focusable\n",
       "    el.attr('tabindex', 0)\n",
       "    // reach out to IPython and tell the keyboard manager to turn it's self\n",
       "    // off when our div gets focus\n",
       "\n",
       "    // location in version 3\n",
       "    if (IPython.notebook.keyboard_manager) {\n",
       "        IPython.notebook.keyboard_manager.register_events(el);\n",
       "    }\n",
       "    else {\n",
       "        // location in version 2\n",
       "        IPython.keyboard_manager.register_events(el);\n",
       "    }\n",
       "\n",
       "}\n",
       "\n",
       "mpl.figure.prototype._key_event_extra = function(event, name) {\n",
       "    var manager = IPython.notebook.keyboard_manager;\n",
       "    if (!manager)\n",
       "        manager = IPython.keyboard_manager;\n",
       "\n",
       "    // Check for shift+enter\n",
       "    if (event.shiftKey && event.which == 13) {\n",
       "        this.canvas_div.blur();\n",
       "        event.shiftKey = false;\n",
       "        // Send a \"J\" for go to next cell\n",
       "        event.which = 74;\n",
       "        event.keyCode = 74;\n",
       "        manager.command_mode();\n",
       "        manager.handle_keydown(event);\n",
       "    }\n",
       "}\n",
       "\n",
       "mpl.figure.prototype.handle_save = function(fig, msg) {\n",
       "    fig.ondownload(fig, null);\n",
       "}\n",
       "\n",
       "\n",
       "mpl.find_output_cell = function(html_output) {\n",
       "    // Return the cell and output element which can be found *uniquely* in the notebook.\n",
       "    // Note - this is a bit hacky, but it is done because the \"notebook_saving.Notebook\"\n",
       "    // IPython event is triggered only after the cells have been serialised, which for\n",
       "    // our purposes (turning an active figure into a static one), is too late.\n",
       "    var cells = IPython.notebook.get_cells();\n",
       "    var ncells = cells.length;\n",
       "    for (var i=0; i<ncells; i++) {\n",
       "        var cell = cells[i];\n",
       "        if (cell.cell_type === 'code'){\n",
       "            for (var j=0; j<cell.output_area.outputs.length; j++) {\n",
       "                var data = cell.output_area.outputs[j];\n",
       "                if (data.data) {\n",
       "                    // IPython >= 3 moved mimebundle to data attribute of output\n",
       "                    data = data.data;\n",
       "                }\n",
       "                if (data['text/html'] == html_output) {\n",
       "                    return [cell, data, j];\n",
       "                }\n",
       "            }\n",
       "        }\n",
       "    }\n",
       "}\n",
       "\n",
       "// Register the function which deals with the matplotlib target/channel.\n",
       "// The kernel may be null if the page has been refreshed.\n",
       "if (IPython.notebook.kernel != null) {\n",
       "    IPython.notebook.kernel.comm_manager.register_target('matplotlib', mpl.mpl_figure_comm);\n",
       "}\n"
      ],
      "text/plain": [
       "<IPython.core.display.Javascript object>"
      ]
     },
     "metadata": {},
     "output_type": "display_data"
    },
    {
     "data": {
      "text/html": [
       "<img src=\"data:image/png;base64,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\" width=\"640\">"
      ],
      "text/plain": [
       "<IPython.core.display.HTML object>"
      ]
     },
     "metadata": {},
     "output_type": "display_data"
    },
    {
     "data": {
      "text/plain": [
       "[<matplotlib.lines.Line2D at 0x7f0129187d68>]"
      ]
     },
     "execution_count": 162,
     "metadata": {},
     "output_type": "execute_result"
    }
   ],
   "source": [
    "figure()\n",
    "grid()\n",
    "plot(t, x)\n",
    "plot(t, x, \"k+\")"
   ]
  }
 ],
 "metadata": {
  "kernelspec": {
   "display_name": "Python 3",
   "language": "python",
   "name": "python3"
  },
  "language_info": {
   "codemirror_mode": {
    "name": "ipython",
    "version": 3
   },
   "file_extension": ".py",
   "mimetype": "text/x-python",
   "name": "python",
   "nbconvert_exporter": "python",
   "pygments_lexer": "ipython3",
   "version": "3.6.7"
  }
 },
 "nbformat": 4,
 "nbformat_minor": 2
}
